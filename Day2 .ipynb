{
 "cells": [
  {
   "cell_type": "code",
   "execution_count": 1,
   "id": "a4e5707c",
   "metadata": {},
   "outputs": [
    {
     "name": "stdout",
     "output_type": "stream",
     "text": [
      "Hello Thakuri\n"
     ]
    }
   ],
   "source": [
    "print(\"Hello Thakuri\")"
   ]
  },
  {
   "cell_type": "code",
   "execution_count": 8,
   "id": "8450becb",
   "metadata": {},
   "outputs": [],
   "source": [
    "x= 'Hexcode\\n'"
   ]
  },
  {
   "cell_type": "code",
   "execution_count": 4,
   "id": "fc5ec8ec",
   "metadata": {},
   "outputs": [],
   "source": [
    "y='Nepla'"
   ]
  },
  {
   "cell_type": "code",
   "execution_count": 5,
   "id": "1ab29087",
   "metadata": {},
   "outputs": [],
   "source": [
    "z=x+y"
   ]
  },
  {
   "cell_type": "code",
   "execution_count": 9,
   "id": "0674f870",
   "metadata": {},
   "outputs": [
    {
     "name": "stdout",
     "output_type": "stream",
     "text": [
      "HexcodeNepla\n"
     ]
    }
   ],
   "source": [
    "print(z)"
   ]
  },
  {
   "cell_type": "code",
   "execution_count": 14,
   "id": "baf6b28d",
   "metadata": {},
   "outputs": [
    {
     "name": "stdout",
     "output_type": "stream",
     "text": [
      "Enter a first ame:Hemanta\n",
      "Eter a cond Name:Chand\n",
      "HemantaChand\n"
     ]
    }
   ],
   "source": [
    "First=input('Enter a first ame:')\n",
    "sec=input('Eter a cond Name:')\n",
    "full= First+sec\n",
    "print(full)"
   ]
  },
  {
   "cell_type": "code",
   "execution_count": 14,
   "id": "e5cde9fa",
   "metadata": {},
   "outputs": [
    {
     "name": "stdout",
     "output_type": "stream",
     "text": [
      "Enter first number:56\n",
      "Enter second number:4\n",
      "60\n"
     ]
    }
   ],
   "source": [
    "num1=int(input('Enter first number:'))\n",
    "num2=int(input('Enter second number:'))\n",
    "sum1=num1+num2\n",
    "print(sum1)"
   ]
  },
  {
   "cell_type": "code",
   "execution_count": 16,
   "id": "5d4fcd5d",
   "metadata": {},
   "outputs": [
    {
     "data": {
      "text/plain": [
       "60"
      ]
     },
     "execution_count": 16,
     "metadata": {},
     "output_type": "execute_result"
    }
   ],
   "source": [
    "sum1"
   ]
  },
  {
   "cell_type": "code",
   "execution_count": 21,
   "id": "3e9e310a",
   "metadata": {},
   "outputs": [
    {
     "name": "stdout",
     "output_type": "stream",
     "text": [
      "6\n"
     ]
    }
   ],
   "source": [
    "m =(1,2,3)\n",
    "n =sum(m)\n",
    "print(n)"
   ]
  },
  {
   "cell_type": "code",
   "execution_count": 42,
   "id": "2aa4c8fe",
   "metadata": {
    "scrolled": true
   },
   "outputs": [
    {
     "name": "stdout",
     "output_type": "stream",
     "text": [
      "Enter first number:2\n",
      "Enter second number:3\n",
      "multiplication is 6.0\n"
     ]
    }
   ],
   "source": [
    "num1 = float(input('Enter first number:'))\n",
    "num2 = float(input('Enter second number:'))\n",
    "num3 =num1*num2\n",
    "print('multiplication is', num3)"
   ]
  },
  {
   "cell_type": "code",
   "execution_count": 45,
   "id": "3138da0e",
   "metadata": {},
   "outputs": [
    {
     "data": {
      "text/plain": [
       "1"
      ]
     },
     "execution_count": 45,
     "metadata": {},
     "output_type": "execute_result"
    }
   ],
   "source": [
    "3%2"
   ]
  },
  {
   "cell_type": "code",
   "execution_count": null,
   "id": "8dfd0d9e",
   "metadata": {},
   "outputs": [],
   "source": []
  }
 ],
 "metadata": {
  "kernelspec": {
   "display_name": "Python 3 (ipykernel)",
   "language": "python",
   "name": "python3"
  },
  "language_info": {
   "codemirror_mode": {
    "name": "ipython",
    "version": 3
   },
   "file_extension": ".py",
   "mimetype": "text/x-python",
   "name": "python",
   "nbconvert_exporter": "python",
   "pygments_lexer": "ipython3",
   "version": "3.11.1"
  }
 },
 "nbformat": 4,
 "nbformat_minor": 5
}
