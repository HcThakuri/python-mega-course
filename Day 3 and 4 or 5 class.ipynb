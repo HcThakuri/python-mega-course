{
 "cells": [
  {
   "cell_type": "markdown",
   "id": "36d30d27",
   "metadata": {},
   "source": [
    "# Comparison operator"
   ]
  },
  {
   "cell_type": "code",
   "execution_count": 1,
   "id": "1de9b171",
   "metadata": {},
   "outputs": [
    {
     "name": "stdout",
     "output_type": "stream",
     "text": [
      "Enter the first number:12\n",
      "Enter the second number:8\n"
     ]
    }
   ],
   "source": [
    "a=float(input('Enter the first number:'))\n",
    "b=float(input('Enter the second number:'))"
   ]
  },
  {
   "cell_type": "code",
   "execution_count": 8,
   "id": "5050b919",
   "metadata": {},
   "outputs": [
    {
     "data": {
      "text/plain": [
       "False"
      ]
     },
     "execution_count": 8,
     "metadata": {},
     "output_type": "execute_result"
    }
   ],
   "source": [
    "a==b #equal to"
   ]
  },
  {
   "cell_type": "code",
   "execution_count": 7,
   "id": "cf862a5a",
   "metadata": {},
   "outputs": [
    {
     "data": {
      "text/plain": [
       "True"
      ]
     },
     "execution_count": 7,
     "metadata": {},
     "output_type": "execute_result"
    }
   ],
   "source": [
    "a>b #greater then"
   ]
  },
  {
   "cell_type": "code",
   "execution_count": 9,
   "id": "eca19a7a",
   "metadata": {},
   "outputs": [
    {
     "data": {
      "text/plain": [
       "False"
      ]
     },
     "execution_count": 9,
     "metadata": {},
     "output_type": "execute_result"
    }
   ],
   "source": [
    "a<b #less then"
   ]
  },
  {
   "cell_type": "code",
   "execution_count": 10,
   "id": "5dcaab51",
   "metadata": {},
   "outputs": [
    {
     "data": {
      "text/plain": [
       "True"
      ]
     },
     "execution_count": 10,
     "metadata": {},
     "output_type": "execute_result"
    }
   ],
   "source": [
    "a>b #greter then equal to"
   ]
  },
  {
   "cell_type": "code",
   "execution_count": 11,
   "id": "36905728",
   "metadata": {},
   "outputs": [
    {
     "data": {
      "text/plain": [
       "True"
      ]
     },
     "execution_count": 11,
     "metadata": {},
     "output_type": "execute_result"
    }
   ],
   "source": [
    "a>=b #gretar equal to"
   ]
  },
  {
   "cell_type": "code",
   "execution_count": 12,
   "id": "c3afbf7b",
   "metadata": {},
   "outputs": [
    {
     "data": {
      "text/plain": [
       "False"
      ]
     },
     "execution_count": 12,
     "metadata": {},
     "output_type": "execute_result"
    }
   ],
   "source": [
    "a<=b #less then equal to"
   ]
  },
  {
   "cell_type": "code",
   "execution_count": 13,
   "id": "8d272c3c",
   "metadata": {},
   "outputs": [
    {
     "data": {
      "text/plain": [
       "True"
      ]
     },
     "execution_count": 13,
     "metadata": {},
     "output_type": "execute_result"
    }
   ],
   "source": [
    "a!=b #not equal to"
   ]
  },
  {
   "cell_type": "markdown",
   "id": "42a922b9",
   "metadata": {},
   "source": [
    "# Logical operators"
   ]
  },
  {
   "cell_type": "code",
   "execution_count": 14,
   "id": "0abe42e4",
   "metadata": {},
   "outputs": [
    {
     "data": {
      "text/plain": [
       "True"
      ]
     },
     "execution_count": 14,
     "metadata": {},
     "output_type": "execute_result"
    }
   ],
   "source": [
    "2<3 and 1>0 #And operator"
   ]
  },
  {
   "cell_type": "code",
   "execution_count": 16,
   "id": "ea0d8a2f",
   "metadata": {},
   "outputs": [
    {
     "data": {
      "text/plain": [
       "True"
      ]
     },
     "execution_count": 16,
     "metadata": {},
     "output_type": "execute_result"
    }
   ],
   "source": [
    "2>1 or 3>2 #Or operator"
   ]
  },
  {
   "cell_type": "code",
   "execution_count": 18,
   "id": "e75f37eb",
   "metadata": {},
   "outputs": [
    {
     "data": {
      "text/plain": [
       "False"
      ]
     },
     "execution_count": 18,
     "metadata": {},
     "output_type": "execute_result"
    }
   ],
   "source": [
    "not(2<3 and 1>0 ) #Not operator"
   ]
  },
  {
   "cell_type": "markdown",
   "id": "359bdc19",
   "metadata": {},
   "source": [
    "# Data Types"
   ]
  },
  {
   "cell_type": "markdown",
   "id": "107ee054",
   "metadata": {},
   "source": [
    "1= String"
   ]
  },
  {
   "cell_type": "code",
   "execution_count": 28,
   "id": "ad9b547b",
   "metadata": {},
   "outputs": [],
   "source": [
    "x='I am a python Developer'"
   ]
  },
  {
   "cell_type": "code",
   "execution_count": 20,
   "id": "c1a1f01b",
   "metadata": {},
   "outputs": [
    {
     "data": {
      "text/plain": [
       "23"
      ]
     },
     "execution_count": 20,
     "metadata": {},
     "output_type": "execute_result"
    }
   ],
   "source": [
    "len(x)"
   ]
  },
  {
   "cell_type": "code",
   "execution_count": 24,
   "id": "352df4c9",
   "metadata": {
    "scrolled": true
   },
   "outputs": [
    {
     "data": {
      "text/plain": [
       "'python'"
      ]
     },
     "execution_count": 24,
     "metadata": {},
     "output_type": "execute_result"
    }
   ],
   "source": [
    "x[7:13]"
   ]
  },
  {
   "cell_type": "code",
   "execution_count": 26,
   "id": "10977105",
   "metadata": {},
   "outputs": [
    {
     "data": {
      "text/plain": [
       "' developer'"
      ]
     },
     "execution_count": 26,
     "metadata": {},
     "output_type": "execute_result"
    }
   ],
   "source": [
    "x[13:23]"
   ]
  },
  {
   "cell_type": "code",
   "execution_count": 27,
   "id": "d3e8f663",
   "metadata": {},
   "outputs": [
    {
     "data": {
      "text/plain": [
       "'python developer'"
      ]
     },
     "execution_count": 27,
     "metadata": {},
     "output_type": "execute_result"
    }
   ],
   "source": [
    "x[7::]"
   ]
  },
  {
   "cell_type": "code",
   "execution_count": 31,
   "id": "37f59d5c",
   "metadata": {},
   "outputs": [
    {
     "data": {
      "text/plain": [
       "'r'"
      ]
     },
     "execution_count": 31,
     "metadata": {},
     "output_type": "execute_result"
    }
   ],
   "source": [
    "x[-1]"
   ]
  },
  {
   "cell_type": "code",
   "execution_count": 35,
   "id": "9e1cb24a",
   "metadata": {},
   "outputs": [
    {
     "data": {
      "text/plain": [
       "'repoleveD nohtyp a ma I'"
      ]
     },
     "execution_count": 35,
     "metadata": {},
     "output_type": "execute_result"
    }
   ],
   "source": [
    "x[::-1]"
   ]
  },
  {
   "cell_type": "code",
   "execution_count": 36,
   "id": "ec8d77c3",
   "metadata": {},
   "outputs": [
    {
     "data": {
      "text/plain": [
       "' am a python Developer'"
      ]
     },
     "execution_count": 36,
     "metadata": {},
     "output_type": "execute_result"
    }
   ],
   "source": [
    "x[1::]"
   ]
  },
  {
   "cell_type": "code",
   "execution_count": 40,
   "id": "b92eeb45",
   "metadata": {},
   "outputs": [
    {
     "name": "stdout",
     "output_type": "stream",
     "text": [
      "Enter your nameHemanata\n"
     ]
    },
    {
     "data": {
      "text/plain": [
       "'Hemanata'"
      ]
     },
     "execution_count": 40,
     "metadata": {},
     "output_type": "execute_result"
    }
   ],
   "source": [
    "sty=input('Enter your name')\n",
    "sty[::]"
   ]
  },
  {
   "cell_type": "code",
   "execution_count": 41,
   "id": "ff5005d5",
   "metadata": {},
   "outputs": [],
   "source": [
    "y=x.split()"
   ]
  },
  {
   "cell_type": "code",
   "execution_count": 42,
   "id": "02265935",
   "metadata": {},
   "outputs": [
    {
     "data": {
      "text/plain": [
       "['I', 'am', 'a', 'python', 'Developer']"
      ]
     },
     "execution_count": 42,
     "metadata": {},
     "output_type": "execute_result"
    }
   ],
   "source": [
    "y"
   ]
  },
  {
   "cell_type": "code",
   "execution_count": 47,
   "id": "be91cd4a",
   "metadata": {},
   "outputs": [],
   "source": [
    "a= 'I/am/a/python/Developer'"
   ]
  },
  {
   "cell_type": "code",
   "execution_count": 48,
   "id": "92490043",
   "metadata": {},
   "outputs": [],
   "source": [
    "b=a.split('/') #froward symbole"
   ]
  },
  {
   "cell_type": "code",
   "execution_count": 50,
   "id": "b1a51219",
   "metadata": {},
   "outputs": [
    {
     "data": {
      "text/plain": [
       "['I', 'am', 'a', 'python', 'Developer']"
      ]
     },
     "execution_count": 50,
     "metadata": {},
     "output_type": "execute_result"
    }
   ],
   "source": [
    "b"
   ]
  },
  {
   "cell_type": "code",
   "execution_count": 51,
   "id": "55247171",
   "metadata": {},
   "outputs": [
    {
     "data": {
      "text/plain": [
       "'I am a python developer'"
      ]
     },
     "execution_count": 51,
     "metadata": {},
     "output_type": "execute_result"
    }
   ],
   "source": [
    "x.capitalize()"
   ]
  },
  {
   "cell_type": "code",
   "execution_count": 52,
   "id": "323bff0b",
   "metadata": {},
   "outputs": [],
   "source": [
    "str1= 'i am human'"
   ]
  },
  {
   "cell_type": "code",
   "execution_count": 53,
   "id": "39fced50",
   "metadata": {},
   "outputs": [
    {
     "data": {
      "text/plain": [
       "'I am human'"
      ]
     },
     "execution_count": 53,
     "metadata": {},
     "output_type": "execute_result"
    }
   ],
   "source": [
    "str1.capitalize()"
   ]
  },
  {
   "cell_type": "code",
   "execution_count": 54,
   "id": "b8ad6884",
   "metadata": {},
   "outputs": [
    {
     "data": {
      "text/plain": [
       "'i am a python developer'"
      ]
     },
     "execution_count": 54,
     "metadata": {},
     "output_type": "execute_result"
    }
   ],
   "source": [
    "x.casefold()"
   ]
  },
  {
   "cell_type": "code",
   "execution_count": 59,
   "id": "0d768bc2",
   "metadata": {},
   "outputs": [
    {
     "data": {
      "text/plain": [
       "3"
      ]
     },
     "execution_count": 59,
     "metadata": {},
     "output_type": "execute_result"
    }
   ],
   "source": [
    "x.count('e')"
   ]
  },
  {
   "cell_type": "code",
   "execution_count": 60,
   "id": "14103ee0",
   "metadata": {},
   "outputs": [
    {
     "data": {
      "text/plain": [
       "b'I am a python Developer'"
      ]
     },
     "execution_count": 60,
     "metadata": {},
     "output_type": "execute_result"
    }
   ],
   "source": [
    "x.encode()"
   ]
  },
  {
   "cell_type": "code",
   "execution_count": 67,
   "id": "64ea9526",
   "metadata": {},
   "outputs": [
    {
     "data": {
      "text/plain": [
       "False"
      ]
     },
     "execution_count": 67,
     "metadata": {},
     "output_type": "execute_result"
    }
   ],
   "source": [
    "x.endswith('i am human')"
   ]
  },
  {
   "cell_type": "code",
   "execution_count": 68,
   "id": "2d00bd28",
   "metadata": {},
   "outputs": [
    {
     "data": {
      "text/plain": [
       "-1"
      ]
     },
     "execution_count": 68,
     "metadata": {},
     "output_type": "execute_result"
    }
   ],
   "source": [
    "x.find('i')"
   ]
  },
  {
   "cell_type": "code",
   "execution_count": 71,
   "id": "8eb4ab2b",
   "metadata": {},
   "outputs": [
    {
     "data": {
      "text/plain": [
       "'I am a python Developer'"
      ]
     },
     "execution_count": 71,
     "metadata": {},
     "output_type": "execute_result"
    }
   ],
   "source": [
    "x.format('A')"
   ]
  },
  {
   "cell_type": "code",
   "execution_count": 74,
   "id": "1cf72db1",
   "metadata": {},
   "outputs": [
    {
     "data": {
      "text/plain": [
       "' I am a python Developer '"
      ]
     },
     "execution_count": 74,
     "metadata": {},
     "output_type": "execute_result"
    }
   ],
   "source": [
    "x.center(25)"
   ]
  },
  {
   "cell_type": "code",
   "execution_count": 75,
   "id": "1de8397c",
   "metadata": {},
   "outputs": [
    {
     "data": {
      "text/plain": [
       "'I AM A PYTHON DEVELOPER'"
      ]
     },
     "execution_count": 75,
     "metadata": {},
     "output_type": "execute_result"
    }
   ],
   "source": [
    "x.upper()"
   ]
  },
  {
   "cell_type": "code",
   "execution_count": 76,
   "id": "1a38ec40",
   "metadata": {},
   "outputs": [
    {
     "data": {
      "text/plain": [
       "False"
      ]
     },
     "execution_count": 76,
     "metadata": {},
     "output_type": "execute_result"
    }
   ],
   "source": [
    "x.isalnum()"
   ]
  },
  {
   "cell_type": "code",
   "execution_count": 77,
   "id": "cedf7152",
   "metadata": {},
   "outputs": [
    {
     "data": {
      "text/plain": [
       "False"
      ]
     },
     "execution_count": 77,
     "metadata": {},
     "output_type": "execute_result"
    }
   ],
   "source": [
    "x.isalnum()"
   ]
  },
  {
   "cell_type": "code",
   "execution_count": 78,
   "id": "251b976f",
   "metadata": {},
   "outputs": [],
   "source": [
    "y= 'python'"
   ]
  },
  {
   "cell_type": "code",
   "execution_count": 80,
   "id": "f3ef0784",
   "metadata": {},
   "outputs": [
    {
     "data": {
      "text/plain": [
       "True"
      ]
     },
     "execution_count": 80,
     "metadata": {},
     "output_type": "execute_result"
    }
   ],
   "source": [
    "y.isalpha()"
   ]
  },
  {
   "cell_type": "code",
   "execution_count": 83,
   "id": "16203dcf",
   "metadata": {},
   "outputs": [
    {
     "data": {
      "text/plain": [
       "'i AM A PYTHON dEVELOPER'"
      ]
     },
     "execution_count": 83,
     "metadata": {},
     "output_type": "execute_result"
    }
   ],
   "source": [
    "x.swapcase()"
   ]
  },
  {
   "cell_type": "code",
   "execution_count": 88,
   "id": "ccf8b758",
   "metadata": {},
   "outputs": [
    {
     "data": {
      "text/plain": [
       "'I am a python Developer'"
      ]
     },
     "execution_count": 88,
     "metadata": {},
     "output_type": "execute_result"
    }
   ],
   "source": [
    "x.translate('A')"
   ]
  },
  {
   "cell_type": "markdown",
   "id": "c106df7b",
   "metadata": {},
   "source": [
    "# Class 4\n",
    "2=list"
   ]
  },
  {
   "cell_type": "code",
   "execution_count": 1,
   "id": "c4e40d40",
   "metadata": {},
   "outputs": [],
   "source": [
    "##collection of data is called list.*/"
   ]
  },
  {
   "cell_type": "code",
   "execution_count": 11,
   "id": "c5c297d1",
   "metadata": {},
   "outputs": [
    {
     "name": "stdout",
     "output_type": "stream",
     "text": [
      "['Ram,hari,sita']\n"
     ]
    }
   ],
   "source": [
    "list=['Ram,hari,sita']\n",
    "print(list)"
   ]
  },
  {
   "cell_type": "code",
   "execution_count": 14,
   "id": "f260d8c5",
   "metadata": {},
   "outputs": [
    {
     "data": {
      "text/plain": [
       "list"
      ]
     },
     "execution_count": 14,
     "metadata": {},
     "output_type": "execute_result"
    }
   ],
   "source": [
    "type(list)"
   ]
  },
  {
   "cell_type": "code",
   "execution_count": 15,
   "id": "ea40dc4b",
   "metadata": {},
   "outputs": [],
   "source": [
    "x='hemanta hexcode'"
   ]
  },
  {
   "cell_type": "code",
   "execution_count": 16,
   "id": "a5599cfe",
   "metadata": {},
   "outputs": [
    {
     "data": {
      "text/plain": [
       "'hemanta hexcode'"
      ]
     },
     "execution_count": 16,
     "metadata": {},
     "output_type": "execute_result"
    }
   ],
   "source": [
    "x"
   ]
  },
  {
   "cell_type": "code",
   "execution_count": 17,
   "id": "075c1910",
   "metadata": {},
   "outputs": [],
   "source": [
    "y='hari'+'shaym'"
   ]
  },
  {
   "cell_type": "code",
   "execution_count": 20,
   "id": "16ac7230",
   "metadata": {},
   "outputs": [
    {
     "data": {
      "text/plain": [
       "'harishaym'"
      ]
     },
     "execution_count": 20,
     "metadata": {},
     "output_type": "execute_result"
    }
   ],
   "source": [
    "y"
   ]
  },
  {
   "cell_type": "code",
   "execution_count": 21,
   "id": "13c925f3",
   "metadata": {},
   "outputs": [
    {
     "data": {
      "text/plain": [
       "1"
      ]
     },
     "execution_count": 21,
     "metadata": {},
     "output_type": "execute_result"
    }
   ],
   "source": [
    "len(list)"
   ]
  },
  {
   "cell_type": "code",
   "execution_count": 22,
   "id": "7e43d0cc",
   "metadata": {},
   "outputs": [],
   "source": [
    "x='ram'+'hari'"
   ]
  },
  {
   "cell_type": "code",
   "execution_count": 23,
   "id": "d757d808",
   "metadata": {},
   "outputs": [
    {
     "data": {
      "text/plain": [
       "'ramhari'"
      ]
     },
     "execution_count": 23,
     "metadata": {},
     "output_type": "execute_result"
    }
   ],
   "source": [
    "x"
   ]
  },
  {
   "cell_type": "code",
   "execution_count": 29,
   "id": "4b19b663",
   "metadata": {},
   "outputs": [
    {
     "data": {
      "text/plain": [
       "1"
      ]
     },
     "execution_count": 29,
     "metadata": {},
     "output_type": "execute_result"
    }
   ],
   "source": [
    "len(list)"
   ]
  },
  {
   "cell_type": "code",
   "execution_count": 30,
   "id": "d7e13cb5",
   "metadata": {},
   "outputs": [
    {
     "data": {
      "text/plain": [
       "[]"
      ]
     },
     "execution_count": 30,
     "metadata": {},
     "output_type": "execute_result"
    }
   ],
   "source": [
    "list[1:3]"
   ]
  },
  {
   "cell_type": "code",
   "execution_count": 31,
   "id": "6641186d",
   "metadata": {},
   "outputs": [],
   "source": [
    "#appended list*?"
   ]
  },
  {
   "cell_type": "code",
   "execution_count": 32,
   "id": "f4f89262",
   "metadata": {},
   "outputs": [],
   "source": [
    "lst1=[]"
   ]
  },
  {
   "cell_type": "code",
   "execution_count": 33,
   "id": "bd20f46d",
   "metadata": {},
   "outputs": [],
   "source": [
    "list.append('HEX')"
   ]
  },
  {
   "cell_type": "code",
   "execution_count": 37,
   "id": "deb0d024",
   "metadata": {},
   "outputs": [
    {
     "name": "stdout",
     "output_type": "stream",
     "text": [
      "['Ram,hari,sita', 'HEX']\n"
     ]
    }
   ],
   "source": [
    "print(list)"
   ]
  },
  {
   "cell_type": "code",
   "execution_count": 38,
   "id": "737b904a",
   "metadata": {},
   "outputs": [],
   "source": [
    "#element change*/"
   ]
  },
  {
   "cell_type": "code",
   "execution_count": 48,
   "id": "d98746ad",
   "metadata": {},
   "outputs": [],
   "source": [
    "list.append('Nepla')"
   ]
  },
  {
   "cell_type": "code",
   "execution_count": 50,
   "id": "f34c3b74",
   "metadata": {},
   "outputs": [],
   "source": [
    " #positon and argument change*?"
   ]
  },
  {
   "cell_type": "code",
   "execution_count": 54,
   "id": "c1bb9b7d",
   "metadata": {},
   "outputs": [],
   "source": [
    "list.insert(1,'code')"
   ]
  },
  {
   "cell_type": "code",
   "execution_count": 55,
   "id": "ac4744c8",
   "metadata": {},
   "outputs": [
    {
     "name": "stdout",
     "output_type": "stream",
     "text": [
      "['Ram,hari,sita', 'code', 'HEX', 'Nepla', 'Hari', 'Shyam', 'Maya', 'Maya', 'Nepla']\n"
     ]
    }
   ],
   "source": [
    "print(list)"
   ]
  },
  {
   "cell_type": "code",
   "execution_count": 56,
   "id": "b48acb4e",
   "metadata": {},
   "outputs": [],
   "source": [
    "#code chang list elements changes*/"
   ]
  },
  {
   "cell_type": "code",
   "execution_count": 57,
   "id": "964e209c",
   "metadata": {},
   "outputs": [],
   "source": [
    "list[1]='Academy'"
   ]
  },
  {
   "cell_type": "code",
   "execution_count": 58,
   "id": "1e96a7a8",
   "metadata": {},
   "outputs": [
    {
     "name": "stdout",
     "output_type": "stream",
     "text": [
      "['Ram,hari,sita', 'Academy', 'HEX', 'Nepla', 'Hari', 'Shyam', 'Maya', 'Maya', 'Nepla']\n"
     ]
    }
   ],
   "source": [
    "print(list)"
   ]
  },
  {
   "cell_type": "code",
   "execution_count": 59,
   "id": "c3e37aa3",
   "metadata": {},
   "outputs": [],
   "source": [
    "list[3]='India'"
   ]
  },
  {
   "cell_type": "code",
   "execution_count": 60,
   "id": "e8ebc38e",
   "metadata": {},
   "outputs": [
    {
     "name": "stdout",
     "output_type": "stream",
     "text": [
      "['Ram,hari,sita', 'Academy', 'HEX', 'India', 'Hari', 'Shyam', 'Maya', 'Maya', 'Nepla']\n"
     ]
    }
   ],
   "source": [
    "print(list)"
   ]
  },
  {
   "cell_type": "code",
   "execution_count": 63,
   "id": "7a62ca00",
   "metadata": {},
   "outputs": [],
   "source": [
    "list[7]='Astha'"
   ]
  },
  {
   "cell_type": "code",
   "execution_count": 64,
   "id": "826192b6",
   "metadata": {},
   "outputs": [
    {
     "name": "stdout",
     "output_type": "stream",
     "text": [
      "['Ram,hari,sita', 'Academy', 'HEX', 'India', 'Astha', 'Shyam', 'Maya', 'Astha', 'Nepla']\n"
     ]
    }
   ],
   "source": [
    "print(list)"
   ]
  },
  {
   "cell_type": "code",
   "execution_count": 66,
   "id": "37c7abfb",
   "metadata": {},
   "outputs": [],
   "source": [
    "list[1:4]='code','usa','2023' #same titem different name chang*/"
   ]
  },
  {
   "cell_type": "code",
   "execution_count": 67,
   "id": "ecce30d9",
   "metadata": {},
   "outputs": [
    {
     "name": "stdout",
     "output_type": "stream",
     "text": [
      "['Ram,hari,sita', 'code', 'usa', '2023', 'Astha', 'Shyam', 'Maya', 'Astha', 'Nepla']\n"
     ]
    }
   ],
   "source": [
    "print(list)"
   ]
  },
  {
   "cell_type": "code",
   "execution_count": 68,
   "id": "022de389",
   "metadata": {},
   "outputs": [],
   "source": [
    "# only one item delet and remove*/"
   ]
  },
  {
   "cell_type": "code",
   "execution_count": 70,
   "id": "a30a7f6a",
   "metadata": {},
   "outputs": [],
   "source": [
    "list.remove('usa')"
   ]
  },
  {
   "cell_type": "code",
   "execution_count": 71,
   "id": "90476b4a",
   "metadata": {},
   "outputs": [
    {
     "name": "stdout",
     "output_type": "stream",
     "text": [
      "['Ram,hari,sita', 'code', '2023', 'Astha', 'Shyam', 'Maya', 'Astha', 'Nepla']\n"
     ]
    }
   ],
   "source": [
    "print(list)"
   ]
  },
  {
   "cell_type": "code",
   "execution_count": 73,
   "id": "b37105c4",
   "metadata": {},
   "outputs": [],
   "source": [
    "list.remove('Shyam')"
   ]
  },
  {
   "cell_type": "code",
   "execution_count": 81,
   "id": "d2ecede6",
   "metadata": {},
   "outputs": [
    {
     "name": "stdout",
     "output_type": "stream",
     "text": [
      "[]\n"
     ]
    }
   ],
   "source": [
    "print(list)"
   ]
  },
  {
   "cell_type": "code",
   "execution_count": 82,
   "id": "a417e7b4",
   "metadata": {},
   "outputs": [
    {
     "data": {
      "text/plain": [
       "[]"
      ]
     },
     "execution_count": 82,
     "metadata": {},
     "output_type": "execute_result"
    }
   ],
   "source": [
    "list.copy()"
   ]
  },
  {
   "cell_type": "code",
   "execution_count": 83,
   "id": "116acb4a",
   "metadata": {},
   "outputs": [],
   "source": [
    "# list elements check the morre list*/"
   ]
  },
  {
   "cell_type": "code",
   "execution_count": 84,
   "id": "2cf272bc",
   "metadata": {},
   "outputs": [
    {
     "data": {
      "text/plain": [
       "False"
      ]
     },
     "execution_count": 84,
     "metadata": {},
     "output_type": "execute_result"
    }
   ],
   "source": [
    "'hi' in list"
   ]
  },
  {
   "cell_type": "markdown",
   "id": "1c0e4591",
   "metadata": {},
   "source": [
    "# 3= Dictionary"
   ]
  },
  {
   "cell_type": "code",
   "execution_count": 85,
   "id": "aea95db0",
   "metadata": {},
   "outputs": [],
   "source": [
    "# order set of key-valu*/ {} :using the "
   ]
  },
  {
   "cell_type": "code",
   "execution_count": 92,
   "id": "ebd512b4",
   "metadata": {},
   "outputs": [],
   "source": [
    "info={'Name':'Hc thakuri', 'Roll': 12, 'College': 'Triton', 'Semester': 2, 'progroam': 'BCA'}"
   ]
  },
  {
   "cell_type": "code",
   "execution_count": 93,
   "id": "193f7c8d",
   "metadata": {},
   "outputs": [
    {
     "data": {
      "text/plain": [
       "{'Name': 'Hc thakuri',\n",
       " 'Roll': 12,\n",
       " 'College': 'Triton',\n",
       " 'Semester': 2,\n",
       " 'progroam': 'BCA'}"
      ]
     },
     "execution_count": 93,
     "metadata": {},
     "output_type": "execute_result"
    }
   ],
   "source": [
    "info"
   ]
  },
  {
   "cell_type": "code",
   "execution_count": 95,
   "id": "ae8ed84e",
   "metadata": {},
   "outputs": [
    {
     "data": {
      "text/plain": [
       "dict_keys(['Name', 'Roll', 'College', 'Semester', 'progroam'])"
      ]
     },
     "execution_count": 95,
     "metadata": {},
     "output_type": "execute_result"
    }
   ],
   "source": [
    "info.keys()"
   ]
  },
  {
   "cell_type": "code",
   "execution_count": 97,
   "id": "8200e78b",
   "metadata": {},
   "outputs": [
    {
     "data": {
      "text/plain": [
       "'Triton'"
      ]
     },
     "execution_count": 97,
     "metadata": {},
     "output_type": "execute_result"
    }
   ],
   "source": [
    "info['College']"
   ]
  },
  {
   "cell_type": "code",
   "execution_count": 98,
   "id": "dcd5621d",
   "metadata": {},
   "outputs": [],
   "source": [
    "info['College']= 'pentagon'"
   ]
  },
  {
   "cell_type": "code",
   "execution_count": 99,
   "id": "4204d82d",
   "metadata": {},
   "outputs": [
    {
     "data": {
      "text/plain": [
       "{'Name': 'Hc thakuri',\n",
       " 'Roll': 12,\n",
       " 'College': 'pentagon',\n",
       " 'Semester': 2,\n",
       " 'progroam': 'BCA'}"
      ]
     },
     "execution_count": 99,
     "metadata": {},
     "output_type": "execute_result"
    }
   ],
   "source": [
    "info"
   ]
  },
  {
   "cell_type": "code",
   "execution_count": 100,
   "id": "62c25799",
   "metadata": {},
   "outputs": [],
   "source": [
    "info['Roll']='13'"
   ]
  },
  {
   "cell_type": "code",
   "execution_count": 101,
   "id": "d078cae0",
   "metadata": {},
   "outputs": [
    {
     "data": {
      "text/plain": [
       "{'Name': 'Hc thakuri',\n",
       " 'Roll': '13',\n",
       " 'College': 'pentagon',\n",
       " 'Semester': 2,\n",
       " 'progroam': 'BCA'}"
      ]
     },
     "execution_count": 101,
     "metadata": {},
     "output_type": "execute_result"
    }
   ],
   "source": [
    "info"
   ]
  },
  {
   "cell_type": "code",
   "execution_count": 102,
   "id": "a02e6193",
   "metadata": {},
   "outputs": [],
   "source": [
    "info['College']='Triton' # Name change the lacation*/"
   ]
  },
  {
   "cell_type": "code",
   "execution_count": 103,
   "id": "e8825526",
   "metadata": {},
   "outputs": [
    {
     "data": {
      "text/plain": [
       "{'Name': 'Hc thakuri',\n",
       " 'Roll': '13',\n",
       " 'College': 'Triton',\n",
       " 'Semester': 2,\n",
       " 'progroam': 'BCA'}"
      ]
     },
     "execution_count": 103,
     "metadata": {},
     "output_type": "execute_result"
    }
   ],
   "source": [
    "info"
   ]
  },
  {
   "cell_type": "code",
   "execution_count": 105,
   "id": "4478911a",
   "metadata": {},
   "outputs": [
    {
     "data": {
      "text/plain": [
       "dict_values(['Hc thakuri', '13', 'Triton', 2, 'BCA'])"
      ]
     },
     "execution_count": 105,
     "metadata": {},
     "output_type": "execute_result"
    }
   ],
   "source": [
    "info.values()"
   ]
  },
  {
   "cell_type": "code",
   "execution_count": 108,
   "id": "e2fe87d0",
   "metadata": {},
   "outputs": [],
   "source": [
    "info['Remarks']='Topper'# new comment add*/"
   ]
  },
  {
   "cell_type": "code",
   "execution_count": 111,
   "id": "4e9831a0",
   "metadata": {},
   "outputs": [
    {
     "data": {
      "text/plain": [
       "{'Name': 'Hc thakuri',\n",
       " 'Roll': '13',\n",
       " 'College': 'Triton',\n",
       " 'Semester': 2,\n",
       " 'progroam': 'BCA',\n",
       " 'Remarks': 'Topper'}"
      ]
     },
     "execution_count": 111,
     "metadata": {},
     "output_type": "execute_result"
    }
   ],
   "source": [
    "info"
   ]
  },
  {
   "cell_type": "code",
   "execution_count": 113,
   "id": "1888ef10",
   "metadata": {},
   "outputs": [
    {
     "data": {
      "text/plain": [
       "'Topper'"
      ]
     },
     "execution_count": 113,
     "metadata": {},
     "output_type": "execute_result"
    }
   ],
   "source": [
    "info.pop('Remarks')"
   ]
  },
  {
   "cell_type": "code",
   "execution_count": 114,
   "id": "953e589e",
   "metadata": {},
   "outputs": [
    {
     "data": {
      "text/plain": [
       "{'Name': 'Hc thakuri',\n",
       " 'Roll': '13',\n",
       " 'College': 'Triton',\n",
       " 'Semester': 2,\n",
       " 'progroam': 'BCA'}"
      ]
     },
     "execution_count": 114,
     "metadata": {},
     "output_type": "execute_result"
    }
   ],
   "source": [
    "info"
   ]
  },
  {
   "cell_type": "code",
   "execution_count": 118,
   "id": "62fbe532",
   "metadata": {},
   "outputs": [],
   "source": [
    "info.update({'Reg. No':'2014-248310'})"
   ]
  },
  {
   "cell_type": "code",
   "execution_count": 119,
   "id": "a29e1074",
   "metadata": {},
   "outputs": [
    {
     "data": {
      "text/plain": [
       "{'Name': 'Hc thakuri',\n",
       " 'Roll': '13',\n",
       " 'College': 'Triton',\n",
       " 'Semester': 2,\n",
       " 'progroam': 'BCA',\n",
       " 'Reg. No': '2014-248310'}"
      ]
     },
     "execution_count": 119,
     "metadata": {},
     "output_type": "execute_result"
    }
   ],
   "source": [
    "info"
   ]
  },
  {
   "cell_type": "code",
   "execution_count": 122,
   "id": "7bf9e766",
   "metadata": {},
   "outputs": [],
   "source": [
    "info.get('Reg.No')"
   ]
  },
  {
   "cell_type": "code",
   "execution_count": 123,
   "id": "1528d4ba",
   "metadata": {},
   "outputs": [
    {
     "data": {
      "text/plain": [
       "{'Name': 'Hc thakuri',\n",
       " 'Roll': '13',\n",
       " 'College': 'Triton',\n",
       " 'Semester': 2,\n",
       " 'progroam': 'BCA',\n",
       " 'Reg. No': '2014-248310'}"
      ]
     },
     "execution_count": 123,
     "metadata": {},
     "output_type": "execute_result"
    }
   ],
   "source": [
    "info"
   ]
  },
  {
   "cell_type": "markdown",
   "id": "b3d1d1df",
   "metadata": {},
   "source": [
    "# 4= Tuple"
   ]
  },
  {
   "cell_type": "code",
   "execution_count": 124,
   "id": "514d042a",
   "metadata": {},
   "outputs": [],
   "source": [
    "x=(1,2,3,'hi') # security using*/ # duplicated itemas sow the list one time *?"
   ]
  },
  {
   "cell_type": "code",
   "execution_count": 125,
   "id": "0ecbc852",
   "metadata": {},
   "outputs": [
    {
     "data": {
      "text/plain": [
       "(1, 2, 3, 'hi')"
      ]
     },
     "execution_count": 125,
     "metadata": {},
     "output_type": "execute_result"
    }
   ],
   "source": [
    "x"
   ]
  },
  {
   "cell_type": "code",
   "execution_count": 126,
   "id": "7d21e9e0",
   "metadata": {},
   "outputs": [
    {
     "data": {
      "text/plain": [
       "1"
      ]
     },
     "execution_count": 126,
     "metadata": {},
     "output_type": "execute_result"
    }
   ],
   "source": [
    "x.count(1)"
   ]
  },
  {
   "cell_type": "code",
   "execution_count": 127,
   "id": "4c76ddfe",
   "metadata": {},
   "outputs": [
    {
     "data": {
      "text/plain": [
       "1"
      ]
     },
     "execution_count": 127,
     "metadata": {},
     "output_type": "execute_result"
    }
   ],
   "source": [
    "x[0]"
   ]
  },
  {
   "cell_type": "code",
   "execution_count": 1,
   "id": "1c41ac1f",
   "metadata": {},
   "outputs": [],
   "source": [
    "t=(\"hi\",\"python\")"
   ]
  },
  {
   "cell_type": "code",
   "execution_count": 2,
   "id": "5e3ae0fc",
   "metadata": {},
   "outputs": [
    {
     "data": {
      "text/plain": [
       "('hi', 'python')"
      ]
     },
     "execution_count": 2,
     "metadata": {},
     "output_type": "execute_result"
    }
   ],
   "source": [
    "t"
   ]
  },
  {
   "cell_type": "code",
   "execution_count": 3,
   "id": "aeda387e",
   "metadata": {},
   "outputs": [],
   "source": [
    "x=('ram','rajan','12','ram')"
   ]
  },
  {
   "cell_type": "code",
   "execution_count": 4,
   "id": "472eabd6",
   "metadata": {},
   "outputs": [
    {
     "data": {
      "text/plain": [
       "('ram', 'rajan', '12', 'ram')"
      ]
     },
     "execution_count": 4,
     "metadata": {},
     "output_type": "execute_result"
    }
   ],
   "source": [
    "x"
   ]
  },
  {
   "cell_type": "code",
   "execution_count": 5,
   "id": "5888ac87",
   "metadata": {},
   "outputs": [
    {
     "data": {
      "text/plain": [
       "4"
      ]
     },
     "execution_count": 5,
     "metadata": {},
     "output_type": "execute_result"
    }
   ],
   "source": [
    "len(x)"
   ]
  },
  {
   "cell_type": "code",
   "execution_count": 6,
   "id": "87627290",
   "metadata": {},
   "outputs": [
    {
     "data": {
      "text/plain": [
       "('12', 'ram')"
      ]
     },
     "execution_count": 6,
     "metadata": {},
     "output_type": "execute_result"
    }
   ],
   "source": [
    "x[2:5]"
   ]
  },
  {
   "cell_type": "code",
   "execution_count": 7,
   "id": "c729e12f",
   "metadata": {},
   "outputs": [],
   "source": [
    "y=list(x)"
   ]
  },
  {
   "cell_type": "code",
   "execution_count": 8,
   "id": "857001e7",
   "metadata": {},
   "outputs": [
    {
     "data": {
      "text/plain": [
       "['ram', 'rajan', '12', 'ram']"
      ]
     },
     "execution_count": 8,
     "metadata": {},
     "output_type": "execute_result"
    }
   ],
   "source": [
    "y"
   ]
  },
  {
   "cell_type": "code",
   "execution_count": 10,
   "id": "dcee2186",
   "metadata": {},
   "outputs": [],
   "source": [
    "y[2]='14'"
   ]
  },
  {
   "cell_type": "code",
   "execution_count": 11,
   "id": "e25e010e",
   "metadata": {},
   "outputs": [
    {
     "data": {
      "text/plain": [
       "['ram', 'rajan', '14', 'ram']"
      ]
     },
     "execution_count": 11,
     "metadata": {},
     "output_type": "execute_result"
    }
   ],
   "source": [
    "y"
   ]
  },
  {
   "cell_type": "code",
   "execution_count": 13,
   "id": "9be6d2f0",
   "metadata": {},
   "outputs": [],
   "source": [
    "z=('Hexcode',)"
   ]
  },
  {
   "cell_type": "code",
   "execution_count": 17,
   "id": "32d6799f",
   "metadata": {},
   "outputs": [
    {
     "data": {
      "text/plain": [
       "str"
      ]
     },
     "execution_count": 17,
     "metadata": {},
     "output_type": "execute_result"
    }
   ],
   "source": [
    "type(z)"
   ]
  },
  {
   "cell_type": "markdown",
   "id": "70957e88",
   "metadata": {},
   "source": [
    "# =5 set"
   ]
  },
  {
   "cell_type": "code",
   "execution_count": 18,
   "id": "cb5c921f",
   "metadata": {},
   "outputs": [],
   "source": [
    "s1={1,2,3,4,5,6}            # Add,delet does not index*?"
   ]
  },
  {
   "cell_type": "code",
   "execution_count": 25,
   "id": "2c9ea8c3",
   "metadata": {},
   "outputs": [
    {
     "data": {
      "text/plain": [
       "set"
      ]
     },
     "execution_count": 25,
     "metadata": {},
     "output_type": "execute_result"
    }
   ],
   "source": [
    "type(s1)"
   ]
  },
  {
   "cell_type": "code",
   "execution_count": 26,
   "id": "70b970c5",
   "metadata": {},
   "outputs": [],
   "source": [
    "s1.add('hi')"
   ]
  },
  {
   "cell_type": "code",
   "execution_count": 27,
   "id": "d29a6128",
   "metadata": {},
   "outputs": [
    {
     "data": {
      "text/plain": [
       "{1, 2, 3, 4, 5, 6, 'hi'}"
      ]
     },
     "execution_count": 27,
     "metadata": {},
     "output_type": "execute_result"
    }
   ],
   "source": [
    "s1"
   ]
  },
  {
   "cell_type": "code",
   "execution_count": 29,
   "id": "bd95f4ac",
   "metadata": {},
   "outputs": [],
   "source": [
    "s1.remove(6)"
   ]
  },
  {
   "cell_type": "code",
   "execution_count": 30,
   "id": "0a47d5f5",
   "metadata": {},
   "outputs": [
    {
     "data": {
      "text/plain": [
       "{1, 2, 3, 4, 5, 'hi'}"
      ]
     },
     "execution_count": 30,
     "metadata": {},
     "output_type": "execute_result"
    }
   ],
   "source": [
    "s1"
   ]
  },
  {
   "cell_type": "code",
   "execution_count": 32,
   "id": "1e84540d",
   "metadata": {},
   "outputs": [
    {
     "name": "stdout",
     "output_type": "stream",
     "text": [
      "1\n",
      "2\n",
      "3\n",
      "4\n",
      "5\n",
      "hi\n"
     ]
    }
   ],
   "source": [
    "for i in s1:\n",
    "    print(i)"
   ]
  },
  {
   "cell_type": "markdown",
   "id": "62ee4520",
   "metadata": {},
   "source": [
    "# IF Else Statement"
   ]
  },
  {
   "cell_type": "code",
   "execution_count": 43,
   "id": "8ccac81c",
   "metadata": {},
   "outputs": [],
   "source": [
    "# conditon check true "
   ]
  },
  {
   "cell_type": "code",
   "execution_count": 44,
   "id": "0cb89ffa",
   "metadata": {
    "collapsed": true
   },
   "outputs": [
    {
     "ename": "SyntaxError",
     "evalue": "invalid syntax (3832248571.py, line 1)",
     "output_type": "error",
     "traceback": [
      "\u001b[1;36m  Cell \u001b[1;32mIn[44], line 1\u001b[1;36m\u001b[0m\n\u001b[1;33m    if<conditon>:\u001b[0m\n\u001b[1;37m      ^\u001b[0m\n\u001b[1;31mSyntaxError\u001b[0m\u001b[1;31m:\u001b[0m invalid syntax\n"
     ]
    }
   ],
   "source": [
    "if<conditon>:\n",
    "    code;\n",
    "    else;\n",
    "    code."
   ]
  },
  {
   "cell_type": "code",
   "execution_count": 53,
   "id": "163874fd",
   "metadata": {},
   "outputs": [
    {
     "name": "stdout",
     "output_type": "stream",
     "text": [
      "Enter any number:5\n"
     ]
    }
   ],
   "source": [
    "x=int(input('Enter any number:'))"
   ]
  },
  {
   "cell_type": "code",
   "execution_count": 51,
   "id": "fb0b9b18",
   "metadata": {},
   "outputs": [
    {
     "name": "stdout",
     "output_type": "stream",
     "text": [
      "Number is odd\n"
     ]
    }
   ],
   "source": [
    "if x%2==0:\n",
    "    print('Number is Even')\n",
    "else:\n",
    "    print('Number is odd')"
   ]
  },
  {
   "cell_type": "code",
   "execution_count": 50,
   "id": "eae9eb9c",
   "metadata": {},
   "outputs": [
    {
     "name": "stdout",
     "output_type": "stream",
     "text": [
      "Number is odd\n"
     ]
    }
   ],
   "source": [
    "if x%2==0:\n",
    "    print('Number is Even')\n",
    "elif x%2!=0:\n",
    "    print('Number is odd')\n",
    "else:\n",
    "    print('Enter integer')"
   ]
  },
  {
   "cell_type": "code",
   "execution_count": 55,
   "id": "c25972cc",
   "metadata": {},
   "outputs": [
    {
     "name": "stdout",
     "output_type": "stream",
     "text": [
      "Enter any number:10\n"
     ]
    }
   ],
   "source": [
    "x=int(input('Enter any number:'))"
   ]
  },
  {
   "cell_type": "code",
   "execution_count": 56,
   "id": "3b7c8187",
   "metadata": {},
   "outputs": [
    {
     "name": "stdout",
     "output_type": "stream",
     "text": [
      "Number is Even\n"
     ]
    }
   ],
   "source": [
    "if x%2==0:\n",
    "    print('Number is Even')\n",
    "elif x%2==1:\n",
    "    print('Number is odd')\n",
    "else:\n",
    "    print('Enter integer')"
   ]
  },
  {
   "cell_type": "markdown",
   "id": "e18ade64",
   "metadata": {},
   "source": [
    "Excricise:\n",
    "    1) Take input from user\n",
    "    2) Classfi the devision using following reference\n",
    "        i) Marks grether then equal to 80-Disttiction\n",
    "        ii)greater equal to 60 and less then 80-first division\n",
    "        iii)Greater equal to 40 and less then 60-second division\n",
    "        iv)less than 40-kaam xaina(Fail)\n",
    "        v)Else invailed marks"
   ]
  },
  {
   "cell_type": "code",
   "execution_count": 57,
   "id": "20356747",
   "metadata": {},
   "outputs": [
    {
     "ename": "SyntaxError",
     "evalue": "invalid syntax (1573165984.py, line 4)",
     "output_type": "error",
     "traceback": [
      "\u001b[1;36m  Cell \u001b[1;32mIn[57], line 4\u001b[1;36m\u001b[0m\n\u001b[1;33m    elif n>60 and n<=80:\u001b[0m\n\u001b[1;37m    ^\u001b[0m\n\u001b[1;31mSyntaxError\u001b[0m\u001b[1;31m:\u001b[0m invalid syntax\n"
     ]
    }
   ],
   "source": [
    "n=int(input('Enter the marks:'))\n",
    "if n>0 and n<=30:\n",
    "    print('thikes')\n",
    "    elif n>60 and n<=80:\n",
    "        print(\"First dvision\")\n",
    "    elif n>40 and n<60:\n",
    "        print('Second division')\n",
    "    elif n>=80:\n",
    "        print('Distication')\n",
    "    else:\n",
    "        print('fail')\n",
    "            "
   ]
  },
  {
   "cell_type": "code",
   "execution_count": null,
   "id": "fc99990f",
   "metadata": {},
   "outputs": [],
   "source": [
    "marks = int(input('Enter your marks'))\n",
    "if marks>=80 and marks<=100:\n",
    "    print('Distication')\n",
    "    "
   ]
  }
 ],
 "metadata": {
  "kernelspec": {
   "display_name": "Python 3 (ipykernel)",
   "language": "python",
   "name": "python3"
  },
  "language_info": {
   "codemirror_mode": {
    "name": "ipython",
    "version": 3
   },
   "file_extension": ".py",
   "mimetype": "text/x-python",
   "name": "python",
   "nbconvert_exporter": "python",
   "pygments_lexer": "ipython3",
   "version": "3.11.1"
  }
 },
 "nbformat": 4,
 "nbformat_minor": 5
}
