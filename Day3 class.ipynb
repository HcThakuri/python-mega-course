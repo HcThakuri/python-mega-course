{
 "cells": [
  {
   "cell_type": "markdown",
   "id": "349e8c9c",
   "metadata": {},
   "source": [
    "# Operator"
   ]
  },
  {
   "cell_type": "markdown",
   "id": "73f23e42",
   "metadata": {},
   "source": [
    "Arithmetic operator"
   ]
  },
  {
   "cell_type": "code",
   "execution_count": null,
   "id": "7529c332",
   "metadata": {},
   "outputs": [],
   "source": [
    "x=float(input('Enter the first num:'))\n",
    "y=float(input('Enter the second num:'))"
   ]
  },
  {
   "cell_type": "code",
   "execution_count": null,
   "id": "da10daff",
   "metadata": {},
   "outputs": [],
   "source": [
    "Addition= x+y\n",
    "subtraction= x-y\n",
    "Divide= x/y\n",
    "multiplication= x*y\n",
    "Reminder= x%y\n",
    "Exponent= x**y\n",
    "Floor division= x//y\n"
   ]
  },
  {
   "cell_type": "code",
   "execution_count": null,
   "id": "1d3607c4",
   "metadata": {},
   "outputs": [],
   "source": [
    "print(Addition)"
   ]
  },
  {
   "cell_type": "code",
   "execution_count": null,
   "id": "0aaccdb0",
   "metadata": {},
   "outputs": [],
   "source": []
  }
 ],
 "metadata": {
  "kernelspec": {
   "display_name": "Python 3 (ipykernel)",
   "language": "python",
   "name": "python3"
  },
  "language_info": {
   "codemirror_mode": {
    "name": "ipython",
    "version": 3
   },
   "file_extension": ".py",
   "mimetype": "text/x-python",
   "name": "python",
   "nbconvert_exporter": "python",
   "pygments_lexer": "ipython3",
   "version": "3.11.1"
  }
 },
 "nbformat": 4,
 "nbformat_minor": 5
}
